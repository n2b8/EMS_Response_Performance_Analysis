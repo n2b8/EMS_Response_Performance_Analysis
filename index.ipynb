{
 "cells": [
  {
   "cell_type": "markdown",
   "id": "0782ce30-c548-47db-8f31-0bb35a3179d1",
   "metadata": {},
   "source": [
    "## Business Understanding\n",
    "\n",
    "### Business Problem\n",
    "An urban Emergency Medical Services (EMS) agency is attempting to identify factors which they can manipulate in order to improve operational efficiency. The agency runs approximately 130,000 911 calls for service each year. Over the last several years, the agency has implemented brand new resources like basic life support, and single resource 'fly' cars in an attempt to provide the right resourfces to the right patients at the right time. Currently, the agency's primary operation metrics is Response Time Compliance (RTC). The RTC goal is to have a 90th percentile response time to emergent calls in 9 minutes or less.\n",
    "\n",
    "### Objective:\n",
    "- **Goal:** Analyze data to identify factors that have the most impact on RTC. Create a viable model which can provide explanitory insights into the operation impacts of RTC.\n",
    "\n",
    "- **Key Questions:**\n",
    "\n",
    "  1. What factors influence RTC?\n",
    "  2. Can a model accurately identify cases of compliance and non-compliance?\n",
    "\n",
    "- **Success Criteria:**\n",
    "\n",
    "  1. Identify modifiable features which can be manipulated to hopefully improve RTC."
   ]
  },
  {
   "cell_type": "markdown",
   "id": "72ea9fec-6124-4b4f-8a7f-377bfef25956",
   "metadata": {},
   "source": [
    "## Data Understanding"
   ]
  },
  {
   "cell_type": "markdown",
   "id": "c05c5f69-02c2-4c0d-8f81-492904ae445a",
   "metadata": {},
   "source": [
    "## Data Preparation"
   ]
  },
  {
   "cell_type": "markdown",
   "id": "79201bbb-c0f4-472a-8841-10c982b9862b",
   "metadata": {},
   "source": [
    "## Exploratory Data Analysis (EDA)"
   ]
  },
  {
   "cell_type": "markdown",
   "id": "98a7c51c-919a-4efa-95d3-23ec59e9308f",
   "metadata": {},
   "source": [
    "## Modeling"
   ]
  },
  {
   "cell_type": "markdown",
   "id": "215588ee-b678-4904-8d31-b06bf79646a7",
   "metadata": {},
   "source": [
    "## Evaluation"
   ]
  },
  {
   "cell_type": "markdown",
   "id": "1a7f2199-6966-4d5b-9011-4f104060c6f7",
   "metadata": {},
   "source": [
    "## Recommendations"
   ]
  },
  {
   "cell_type": "code",
   "execution_count": null,
   "id": "8e4d7296-2c8d-4022-a65b-a1c0b03c5910",
   "metadata": {},
   "outputs": [],
   "source": []
  }
 ],
 "metadata": {
  "kernelspec": {
   "display_name": "Python (learn-env)",
   "language": "python",
   "name": "learn-env"
  },
  "language_info": {
   "codemirror_mode": {
    "name": "ipython",
    "version": 3
   },
   "file_extension": ".py",
   "mimetype": "text/x-python",
   "name": "python",
   "nbconvert_exporter": "python",
   "pygments_lexer": "ipython3",
   "version": "3.9.19"
  }
 },
 "nbformat": 4,
 "nbformat_minor": 5
}
